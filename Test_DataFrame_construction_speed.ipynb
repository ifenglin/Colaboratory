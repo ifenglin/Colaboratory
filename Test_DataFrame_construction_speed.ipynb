{
  "nbformat": 4,
  "nbformat_minor": 0,
  "metadata": {
    "colab": {
      "name": "Test DataFrame construction speed.ipynb",
      "version": "0.3.2",
      "provenance": [],
      "collapsed_sections": [],
      "include_colab_link": true
    }
  },
  "cells": [
    {
      "cell_type": "markdown",
      "metadata": {
        "id": "view-in-github",
        "colab_type": "text"
      },
      "source": [
        "[View in Colaboratory](https://colab.research.google.com/github/ifenglin/Colaboratory/blob/master/Test_DataFrame_construction_speed.ipynb)"
      ]
    },
    {
      "metadata": {
        "id": "ZXk3Z7NdEMSu",
        "colab_type": "code",
        "colab": {}
      },
      "cell_type": "code",
      "source": [
        "import pandas as pd\n",
        "ls = [{'a': 1, 'b':2}, {'a': 1, 'b':3}]"
      ],
      "execution_count": 0,
      "outputs": []
    },
    {
      "metadata": {
        "id": "qzBsjr6uPuuE",
        "colab_type": "text"
      },
      "cell_type": "markdown",
      "source": [
        "Compare DataFrame default constructor with DataFrame.from_records()"
      ]
    },
    {
      "metadata": {
        "id": "Z2K16GOCESjx",
        "colab_type": "code",
        "colab": {
          "base_uri": "https://localhost:8080/",
          "height": 34
        },
        "outputId": "01ef8fbb-115a-4c03-bc6d-957fd41c02e4"
      },
      "cell_type": "code",
      "source": [
        "%timeit [pd.DataFrame(ls) for x in range(10000)]"
      ],
      "execution_count": 5,
      "outputs": [
        {
          "output_type": "stream",
          "text": [
            "1 loop, best of 3: 3.63 s per loop\n"
          ],
          "name": "stdout"
        }
      ]
    },
    {
      "metadata": {
        "id": "STBlAtS7EXTv",
        "colab_type": "code",
        "colab": {
          "base_uri": "https://localhost:8080/",
          "height": 34
        },
        "outputId": "0c2629c9-d6ea-4b86-849f-f5b995f56fc7"
      },
      "cell_type": "code",
      "source": [
        "%timeit [pd.DataFrame.from_records(ls) for x in range(10000)]"
      ],
      "execution_count": 6,
      "outputs": [
        {
          "output_type": "stream",
          "text": [
            "1 loop, best of 3: 3.88 s per loop\n"
          ],
          "name": "stdout"
        }
      ]
    },
    {
      "metadata": {
        "id": "oU4b82HkP2hI",
        "colab_type": "text"
      },
      "cell_type": "markdown",
      "source": [
        "Comapre DataFrame.iterrows() and iteration with DataFrame.loc"
      ]
    },
    {
      "metadata": {
        "id": "S1H4aEquN2ff",
        "colab_type": "code",
        "colab": {
          "base_uri": "https://localhost:8080/",
          "height": 34
        },
        "outputId": "f0032d56-421a-4747-ac09-17254019ce98"
      },
      "cell_type": "code",
      "source": [
        "df = pd.DataFrame(ls*10000)\n",
        "df.shape[0]"
      ],
      "execution_count": 7,
      "outputs": [
        {
          "output_type": "execute_result",
          "data": {
            "text/plain": [
              "20000"
            ]
          },
          "metadata": {
            "tags": []
          },
          "execution_count": 7
        }
      ]
    },
    {
      "metadata": {
        "id": "YbOWuXsDNlwS",
        "colab_type": "code",
        "colab": {
          "base_uri": "https://localhost:8080/",
          "height": 34
        },
        "outputId": "5a63ae00-4e23-4e4e-935e-712fdd9d17d3"
      },
      "cell_type": "code",
      "source": [
        "%timeit for i in df.iterrows(): a, b = i"
      ],
      "execution_count": 8,
      "outputs": [
        {
          "output_type": "stream",
          "text": [
            "1 loop, best of 3: 685 ms per loop\n"
          ],
          "name": "stdout"
        }
      ]
    },
    {
      "metadata": {
        "id": "HV0GpuHtOdjj",
        "colab_type": "code",
        "colab": {
          "base_uri": "https://localhost:8080/",
          "height": 34
        },
        "outputId": "3ed367f7-d74d-484f-8b4c-d2f100f40bae"
      },
      "cell_type": "code",
      "source": [
        "%timeit for i in xrange(df.shape[0]): a, b = df.loc[i, 'a'],df.loc[i, 'b']"
      ],
      "execution_count": 9,
      "outputs": [
        {
          "output_type": "stream",
          "text": [
            "1 loop, best of 3: 278 ms per loop\n"
          ],
          "name": "stdout"
        }
      ]
    }
  ]
}