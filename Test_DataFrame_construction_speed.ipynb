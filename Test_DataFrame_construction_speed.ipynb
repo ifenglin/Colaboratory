{
  "nbformat": 4,
  "nbformat_minor": 0,
  "metadata": {
    "colab": {
      "name": "Test DataFrame construction speed.ipynb",
      "version": "0.3.2",
      "provenance": [],
      "collapsed_sections": [],
      "include_colab_link": true
    }
  },
  "cells": [
    {
      "cell_type": "markdown",
      "metadata": {
        "id": "view-in-github",
        "colab_type": "text"
      },
      "source": [
        "[View in Colaboratory](https://colab.research.google.com/github/ifenglin/Colaboratory/blob/master/Test_DataFrame_construction_speed.ipynb)"
      ]
    },
    {
      "metadata": {
        "id": "ZXk3Z7NdEMSu",
        "colab_type": "code",
        "colab": {}
      },
      "cell_type": "code",
      "source": [
        "import pandas as pd\n",
        "ls = [{'a': 1, 'b':2}, {'a': 1, 'b':3}]"
      ],
      "execution_count": 0,
      "outputs": []
    },
    {
      "metadata": {
        "id": "qzBsjr6uPuuE",
        "colab_type": "text"
      },
      "cell_type": "markdown",
      "source": [
        "Compare DataFrame default constructor with DataFrame.from_records()"
      ]
    },
    {
      "metadata": {
        "id": "Z2K16GOCESjx",
        "colab_type": "code",
        "colab": {
          "base_uri": "https://localhost:8080/",
          "height": 34
        },
        "outputId": "7c6113d9-fa3a-41eb-cf2a-88393e5c8e94"
      },
      "cell_type": "code",
      "source": [
        "%timeit [pd.DataFrame(ls) for x in range(10000)]"
      ],
      "execution_count": 2,
      "outputs": [
        {
          "output_type": "stream",
          "text": [
            "1 loop, best of 3: 3.65 s per loop\n"
          ],
          "name": "stdout"
        }
      ]
    },
    {
      "metadata": {
        "id": "STBlAtS7EXTv",
        "colab_type": "code",
        "colab": {
          "base_uri": "https://localhost:8080/",
          "height": 34
        },
        "outputId": "8a84b3bf-4f24-46a8-b011-fc522f5f1042"
      },
      "cell_type": "code",
      "source": [
        "%timeit [pd.DataFrame.from_records(ls) for x in range(10000)]"
      ],
      "execution_count": 3,
      "outputs": [
        {
          "output_type": "stream",
          "text": [
            "1 loop, best of 3: 3.91 s per loop\n"
          ],
          "name": "stdout"
        }
      ]
    },
    {
      "metadata": {
        "id": "ZJAul2hwyDo4",
        "colab_type": "code",
        "colab": {}
      },
      "cell_type": "code",
      "source": [
        ""
      ],
      "execution_count": 0,
      "outputs": []
    },
    {
      "metadata": {
        "id": "oU4b82HkP2hI",
        "colab_type": "text"
      },
      "cell_type": "markdown",
      "source": [
        "Comapre DataFrame.iterrows() and iteration with DataFrame.loc"
      ]
    },
    {
      "metadata": {
        "id": "S1H4aEquN2ff",
        "colab_type": "code",
        "colab": {}
      },
      "cell_type": "code",
      "source": [
        "df = pd.DataFrame(ls*10000)\n",
        "df.shape[0]"
      ],
      "execution_count": 0,
      "outputs": []
    },
    {
      "metadata": {
        "id": "lRodUg55QCYh",
        "colab_type": "code",
        "colab": {}
      },
      "cell_type": "code",
      "source": [
        ""
      ],
      "execution_count": 0,
      "outputs": []
    },
    {
      "metadata": {
        "id": "YbOWuXsDNlwS",
        "colab_type": "code",
        "colab": {}
      },
      "cell_type": "code",
      "source": [
        "%timeit for i in df.iterrows(): a, b = i"
      ],
      "execution_count": 0,
      "outputs": []
    },
    {
      "metadata": {
        "id": "HV0GpuHtOdjj",
        "colab_type": "code",
        "colab": {}
      },
      "cell_type": "code",
      "source": [
        "%timeit for i in xrange(df.shape[0]): a, b = df.loc[i, 'a'],df.loc[i, 'b']"
      ],
      "execution_count": 0,
      "outputs": []
    },
    {
      "metadata": {
        "id": "Q9iDbKuwroKD",
        "colab_type": "code",
        "colab": {}
      },
      "cell_type": "code",
      "source": [
        ""
      ],
      "execution_count": 0,
      "outputs": []
    }
  ]
}